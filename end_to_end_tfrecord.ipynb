{
 "cells": [
  {
   "cell_type": "markdown",
   "metadata": {},
   "source": [
    "### 1. Preparing the Data"
   ]
  },
  {
   "cell_type": "code",
   "execution_count": 1,
   "metadata": {},
   "outputs": [],
   "source": [
    "import tensorflow as tf\n",
    "from tensorflow.keras.datasets import mnist\n",
    "import numpy as np\n",
    "import matplotlib.pyplot as plt\n",
    "\n",
    "N_ROWS = 28\n",
    "N_COLS = 28\n",
    "# Load MNIST dataset\n",
    "(x_train, y_train), (x_test, y_test) = mnist.load_data()"
   ]
  },
  {
   "cell_type": "code",
   "execution_count": 2,
   "metadata": {},
   "outputs": [
    {
     "data": {
      "image/png": "[encoded data removed]",
      "text/plain": [
       "<Figure size 800x800 with 16 Axes>"
      ]
     },
     "metadata": {},
     "output_type": "display_data"
    }
   ],
   "source": [
    "digits = np.reshape(x_train[:16], (16, N_ROWS, N_COLS))\n",
    "fig, axes = plt.subplots(4, 4, figsize=(8, 8))  # Adjust figsize as needed\n",
    "\n",
    "# Iterate through the arrays and plot them in the subplots\n",
    "for i, ax in enumerate(axes.flat):\n",
    "    if i < len(digits): # Check if there is an image to plot in this subplot. Important for lists of arrays with size not multiple of 16\n",
    "      ax.imshow(digits[i], cmap='gray')  # Assuming grayscale images; use appropriate cmap if needed\n",
    "      ax.axis('off')  # Hide axes\n",
    "    else:\n",
    "      ax.axis('off') # Hide axes even if there's no image in this subplot\n",
    "      ax.set_xticklabels([]) # Remove labels to avoid errors\n",
    "      ax.set_yticklabels([]) # Remove labels to avoid errors\n",
    "\n",
    "plt.tight_layout(pad=0.5) # Adjust spacing between subplots\n",
    "plt.show()"
   ]
  },
  {
   "cell_type": "code",
   "execution_count": 3,
   "metadata": {},
   "outputs": [],
   "source": [
    "# Flatten the images and normalize\n",
    "flat_shape = np.prod(x_train.shape[1:])\n",
    "x_train = x_train.reshape(-1, flat_shape).astype(\"float32\") / 255.0\n",
    "x_test = x_test.reshape(-1, flat_shape).astype(\"float32\") / 255.0"
   ]
  },
  {
   "cell_type": "markdown",
   "metadata": {},
   "source": [
    "### 2. Writing TFRecords"
   ]
  },
  {
   "cell_type": "code",
   "execution_count": 4,
   "metadata": {},
   "outputs": [
    {
     "name": "stdout",
     "output_type": "stream",
     "text": [
      "Saved train_001.tfrecord with 20000 examples.\n",
      "Saved train_002.tfrecord with 20000 examples.\n",
      "Saved train_003.tfrecord with 20000 examples.\n",
      "Saved test_001.tfrecord with 4000 examples.\n",
      "Saved test_002.tfrecord with 4000 examples.\n",
      "Saved test_003.tfrecord with 2000 examples.\n"
     ]
    }
   ],
   "source": [
    "import os\n",
    "\n",
    "def serialize_example(feature, label):\n",
    "    \"\"\"Converts raw data into tf.train.Example.\"\"\"\n",
    "    feature = {\n",
    "        \"image\": tf.train.Feature(float_list=tf.train.FloatList(value=feature)),\n",
    "        \"label\": tf.train.Feature(int64_list=tf.train.Int64List(value=[label])),\n",
    "    }\n",
    "    example_proto = tf.train.Example(features=tf.train.Features(feature=feature))\n",
    "    return example_proto.SerializeToString()\n",
    "\n",
    "def write_multiple_tfrecords(prefix, features, labels, examples_per_file=20000):\n",
    "    \"\"\"\n",
    "    Write multiple TFRecord files.\n",
    "\n",
    "    Parameters:\n",
    "    - prefix (str): Prefix for the TFRecord file names (e.g., \"train\" or \"test\").\n",
    "    - features (np.array): Array of feature data.\n",
    "    - labels (np.array): Array of label data.\n",
    "    - examples_per_file (int): Number of examples to write per TFRecord file.\n",
    "    \"\"\"\n",
    "    num_examples = len(features)\n",
    "    num_files = (num_examples + examples_per_file - 1) // examples_per_file  # Calculate number of files needed\n",
    "\n",
    "    for file_idx in range(num_files):\n",
    "        # File path for each TFRecord file\n",
    "        filename = f\"{prefix}_{str(file_idx + 1).zfill(3)}.tfrecord\"\n",
    "        start_idx = file_idx * examples_per_file\n",
    "        end_idx = min(start_idx + examples_per_file, num_examples)\n",
    "\n",
    "        with tf.io.TFRecordWriter(filename) as writer:\n",
    "            for i in range(start_idx, end_idx):\n",
    "                example = serialize_example(features[i], labels[i])\n",
    "                writer.write(example)\n",
    "\n",
    "        print(f\"Saved {filename} with {end_idx - start_idx} examples.\")\n",
    "\n",
    "# Save train and test data to multiple TFRecord files\n",
    "write_multiple_tfrecords(\"train\", x_train, y_train, examples_per_file=20000)\n",
    "write_multiple_tfrecords(\"test\", x_test, y_test, examples_per_file=4000)"
   ]
  },
  {
   "cell_type": "markdown",
   "metadata": {},
   "source": [
    "### 3. Creating a tf.data.Dataset for Training"
   ]
  },
  {
   "cell_type": "code",
   "execution_count": 5,
   "metadata": {},
   "outputs": [],
   "source": [
    "def preprocess(features):\n",
    "    # Extract image and label\n",
    "    image = features[\"image\"]\n",
    "    label = features[\"label\"]\n",
    "    # Reshape the image\n",
    "    image = tf.reshape(image, [N_ROWS, N_COLS])\n",
    "    return image, label\n",
    "\n",
    "# Define the feature description to parse each TFRecord\n",
    "feature_description = {\n",
    "    \"image\": tf.io.FixedLenFeature([N_ROWS * N_COLS], tf.float32),\n",
    "    \"label\": tf.io.FixedLenFeature([], tf.int64),\n",
    "}\n",
    "\n",
    "def parse_tfrecord(example_proto):\n",
    "    return tf.io.parse_single_example(example_proto, feature_description)\n",
    "\n",
    "def load_multiple_tfrecords(file_pattern, batch_size=32, shuffle_buffer=1024):\n",
    "    # List all files matching the pattern (e.g., \"train_*.tfrecord\")\n",
    "    files = tf.data.Dataset.list_files(file_pattern)\n",
    "\n",
    "    # Create a TFRecordDataset from the list of files\n",
    "    dataset = files.interleave(\n",
    "        tf.data.TFRecordDataset,\n",
    "        cycle_length=4,\n",
    "        num_parallel_calls=tf.data.AUTOTUNE\n",
    "    )\n",
    "\n",
    "    # Parse the records and preprocess\n",
    "    dataset = dataset.map(parse_tfrecord, num_parallel_calls=tf.data.AUTOTUNE)\n",
    "    dataset = dataset.map(preprocess, num_parallel_calls=tf.data.AUTOTUNE)\n",
    "    \n",
    "    # Shuffle and batch the dataset\n",
    "    dataset = dataset.shuffle(buffer_size=shuffle_buffer)\n",
    "    dataset = dataset.batch(batch_size)\n",
    "    dataset = dataset.prefetch(tf.data.AUTOTUNE)  # number of batches to prefetch asynchronously while training\n",
    "\n",
    "    return dataset\n",
    "\n",
    "# Load train and test datasets from multiple TFRecord files\n",
    "train_dataset = load_multiple_tfrecords(\"train_*.tfrecord\", batch_size=32)\n",
    "test_dataset = load_multiple_tfrecords(\"test_*.tfrecord\", batch_size=32)"
   ]
  },
  {
   "cell_type": "markdown",
   "metadata": {},
   "source": [
    "### 4. Building and Training a Model"
   ]
  },
  {
   "cell_type": "code",
   "execution_count": 6,
   "metadata": {},
   "outputs": [
    {
     "name": "stdout",
     "output_type": "stream",
     "text": [
      "Epoch 1/5\n",
      "1875/1875 [==============================] - 8s 4ms/step - loss: 0.2559 - accuracy: 0.9276 - val_loss: 0.1426 - val_accuracy: 0.9571\n",
      "Epoch 2/5\n",
      "1875/1875 [==============================] - 5s 2ms/step - loss: 0.1137 - accuracy: 0.9661 - val_loss: 0.1213 - val_accuracy: 0.9602\n",
      "Epoch 3/5\n",
      "1875/1875 [==============================] - 5s 3ms/step - loss: 0.0777 - accuracy: 0.9766 - val_loss: 0.0862 - val_accuracy: 0.9732\n",
      "Epoch 4/5\n",
      "1875/1875 [==============================] - 5s 2ms/step - loss: 0.0578 - accuracy: 0.9817 - val_loss: 0.0825 - val_accuracy: 0.9740\n",
      "Epoch 5/5\n",
      "1875/1875 [==============================] - 5s 3ms/step - loss: 0.0435 - accuracy: 0.9865 - val_loss: 0.0806 - val_accuracy: 0.9751\n"
     ]
    },
    {
     "data": {
      "text/plain": [
       "<keras.callbacks.History at 0x1d820a42100>"
      ]
     },
     "execution_count": 6,
     "metadata": {},
     "output_type": "execute_result"
    }
   ],
   "source": [
    "# Define a simple neural network model\n",
    "model = tf.keras.Sequential([\n",
    "    tf.keras.layers.Flatten(input_shape=(N_ROWS, N_COLS)),\n",
    "    tf.keras.layers.Dense(128, activation=\"relu\"),\n",
    "    tf.keras.layers.Dense(10, activation=\"softmax\"),\n",
    "])\n",
    "\n",
    "model.compile(optimizer=\"adam\",\n",
    "              loss=\"sparse_categorical_crossentropy\",\n",
    "              metrics=[\"accuracy\"])\n",
    "\n",
    "# Train the model\n",
    "model.fit(train_dataset, epochs=5, validation_data=test_dataset)"
   ]
  },
  {
   "cell_type": "markdown",
   "metadata": {},
   "source": [
    "### 5. Evaluating the Model"
   ]
  },
  {
   "cell_type": "code",
   "execution_count": 7,
   "metadata": {},
   "outputs": [
    {
     "name": "stdout",
     "output_type": "stream",
     "text": [
      "313/313 [==============================] - 1s 2ms/step - loss: 0.0806 - accuracy: 0.9751\n",
      "Test Loss: 0.0806, Test Accuracy: 0.9751\n"
     ]
    }
   ],
   "source": [
    "# Evaluate the model\n",
    "loss, accuracy = model.evaluate(test_dataset)\n",
    "print(f\"Test Loss: {loss:.4f}, Test Accuracy: {accuracy:.4f}\")"
   ]
  },
  {
   "cell_type": "markdown",
   "metadata": {},
   "source": [
    "### 6. Size comparison among different formats"
   ]
  },
  {
   "cell_type": "code",
   "execution_count": 8,
   "metadata": {},
   "outputs": [],
   "source": [
    "import numpy as np\n",
    "import pandas as pd\n",
    "\n",
    "path_mnist = 'C:/Users/IRPEREZ/.keras/datasets/mnist.npz'\n",
    "data_full = np.load(path_mnist)\n",
    "data_separated: dict = {key: data_full[key] for key in data_full.files}"
   ]
  },
  {
   "cell_type": "code",
   "execution_count": 9,
   "metadata": {},
   "outputs": [],
   "source": [
    "# CSV: 271 MB\n",
    "# TFRecord: 212 MB\n",
    "# Parquet: 47.3 MB\n",
    "for key, arr in data_separated.items():\n",
    "    data_partition = arr\n",
    "    if len(data_partition.shape) == 3:\n",
    "        data_partition = data_partition.reshape((data_partition.shape[0], data_partition.shape[1] * data_partition.shape[2]))\n",
    "    else:\n",
    "        data_partition = np.expand_dims(data_partition, axis=1)\n",
    "    pd.DataFrame(data_partition / 256, columns=[str(i) for i in range(data_partition.shape[1])]).to_parquet(f'{key}.parquet', index=False)\n",
    "    pd.DataFrame(data_partition / 256, columns=[str(i) for i in range(data_partition.shape[1])]).to_csv(f'{key}.csv', index=False)"
   ]
  },
  {
   "cell_type": "markdown",
   "metadata": {},
   "source": [
    "### Conclusion\n",
    "- tf.data.Dataset is a native structure in TF that can be passed directly to a training .fit()\n",
    "- It is optimized to reduce the data bottleneck during training, by loading data from files in chunks to memory, and not at once.\n",
    "- It uses multithreading for data loading.\n",
    "- A tf.data.Dataset can be built from a set of .tfrecord files.\n",
    "- The size of the .tfrecords is much smaller than text files (i.e. CSVs) although bigger than parquets.\n",
    "- The dataset can be easily shuffled, batched and prefetched, improving quality training and efficiency.\n",
    "- The data in any format could be converted to TFRecord before uploading it to the cloud."
   ]
  }
 ],
 "metadata": {
  "kernelspec": {
   "display_name": "timeSeries",
   "language": "python",
   "name": "python3"
  },
  "language_info": {
   "codemirror_mode": {
    "name": "ipython",
    "version": 3
   },
   "file_extension": ".py",
   "mimetype": "text/x-python",
   "name": "python",
   "nbconvert_exporter": "python",
   "pygments_lexer": "ipython3",
   "version": "3.8.19"
  }
 },
 "nbformat": 4,
 "nbformat_minor": 2
}
